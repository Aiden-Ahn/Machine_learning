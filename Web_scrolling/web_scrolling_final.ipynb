{
 "cells": [
  {
   "cell_type": "code",
   "execution_count": null,
   "metadata": {},
   "outputs": [],
   "source": [
    "import urllib.request\n",
    "from bs4 import BeautifulSoup\n",
    "import re\n",
    "import os\n",
    "\n",
    "def fetch_list_url():\n",
    "    search_text = input(\"검색어를 입력하세요 : \").encode(\"utf-8\")\n",
    "    search_text = str(search_text)[2:-1].replace('\\\\x','%')\n",
    "    params = []\n",
    "    for i in range(2):\n",
    "        list_url = \"http://search.hani.co.kr/Search?command=query&keyword=\"+search_text+\"&media=news&sort=d&period=all&datefrom=2000.01.01&dateto=2017.12.29&pageseq=\"\n",
    "        url = urllib.request.Request(list_url) \n",
    "        res = urllib.request.urlopen(url).read().decode(\"utf-8\") \n",
    "\n",
    "        soup = BeautifulSoup(res, \"html.parser\")\n",
    "        \n",
    "        article_result = soup.find_all('dt')\n",
    "        \n",
    "        for link in soup.find_all('dt'): \n",
    "            for i in link: \n",
    "                params.append(i.get('href'))\n",
    "    return(params)\n",
    "    #print(params)\n",
    "\n",
    "def fetch_list_url2():\n",
    "    \n",
    "    list_url = fetch_list_url()\n",
    "    #print(params)\n",
    "    result = []\n",
    "    for i in range(len(list_url)):\n",
    "        url = urllib.request.Request(list_url[i]) \n",
    "        res = urllib.request.urlopen(url).read().decode(\"utf-8\") \n",
    "\n",
    "        soup = BeautifulSoup(res, \"html.parser\")  \n",
    "\n",
    "        text_result = soup.find_all('div',class_='text')\n",
    "        date_result = soup.find_all('p',class_='date-time')\n",
    "        \n",
    "        for i,j in zip(text_result,date_result):\n",
    "            result.append(i.get_text('',strip=True))\n",
    "            result.append(j.get_text('',strip=True))\n",
    "    return result\n",
    "\n",
    "\n",
    "#print(fetch_list_url2())\n",
    "print(fetch_list_url2())\n",
    "#f = open('output1.txt', 'w')\n",
    "#f.writelines(fetch_list_url2())\n",
    "#f.close()"
   ]
  },
  {
   "cell_type": "code",
   "execution_count": null,
   "metadata": {
    "collapsed": true
   },
   "outputs": [],
   "source": []
  }
 ],
 "metadata": {
  "kernelspec": {
   "display_name": "Python 3",
   "language": "python",
   "name": "python3"
  },
  "language_info": {
   "codemirror_mode": {
    "name": "ipython",
    "version": 3
   },
   "file_extension": ".py",
   "mimetype": "text/x-python",
   "name": "python",
   "nbconvert_exporter": "python",
   "pygments_lexer": "ipython3",
   "version": "3.6.3"
  }
 },
 "nbformat": 4,
 "nbformat_minor": 2
}
